{
 "cells": [
  {
   "cell_type": "markdown",
   "id": "1bb426c6-8276-49a6-96f4-4783abc7f015",
   "metadata": {},
   "source": [
    "# Python Basics Question"
   ]
  },
  {
   "cell_type": "code",
   "execution_count": null,
   "id": "6dc97560-50e2-4c03-bbf8-0cb826d3b1f7",
   "metadata": {},
   "outputs": [],
   "source": [
    "# 1. What is Python, and why is it popular ?\n",
    "# Ans 1). Python is a programming language. It is easy to use, easy to learn and it is widely used in website development, data analytics\n",
    "#         It is easy to use, easy to learn and it is widely used in website development, data analytics,\n",
    "#         automation or even making games and more."
   ]
  },
  {
   "cell_type": "code",
   "execution_count": 13,
   "id": "6132728c-6c77-4763-a5ed-4ea8a5ff8319",
   "metadata": {},
   "outputs": [],
   "source": [
    "# 2. What is an interpreter in Python?\n",
    "# Ans 2). An interpreter is a tool that reads and runs Python code directly, one line at a time."
   ]
  },
  {
   "cell_type": "code",
   "execution_count": 97,
   "id": "84b6c3a9-bcba-4e05-9c86-d0ebf6738e50",
   "metadata": {},
   "outputs": [],
   "source": [
    "# 3. What are pre-defined keywords in Python?\n",
    "# Ans 3). Keywords are special words in Python that have a specific meaning. \n",
    "#         You can not use these words for your own variables because they are reserved for Python to use. Examples are if():, `while(): .\n",
    "#         If you try to do it will throw error."
   ]
  },
  {
   "cell_type": "code",
   "execution_count": 15,
   "id": "3a3ca1e8-4c97-4677-8343-bc722e1da82c",
   "metadata": {},
   "outputs": [],
   "source": [
    "# 4. Can keywords be used as variable names?\n",
    "# Ans 4). No, you can’t use Python keywords as variable names because they are reserved for Python to use. "
   ]
  },
  {
   "cell_type": "code",
   "execution_count": 16,
   "id": "520b3e4d-dcc0-42d5-a71e-b25105f23b08",
   "metadata": {},
   "outputs": [],
   "source": [
    "# 5. What is mutability in Python?\n",
    "# Ans 5). Mutability refers to the ability of an object to be changed after it is created. \n",
    "#         For example, a list can change, add or remove things, but a tuple can not be changed once it is made."
   ]
  },
  {
   "cell_type": "code",
   "execution_count": 17,
   "id": "67486da5-234e-44b8-8418-493d1528119f",
   "metadata": {},
   "outputs": [],
   "source": [
    "# 6. Why are lists mutable, but tuples are immutable?\n",
    "# Ans 6). Lists are made to be flexible. You can change the items in them, like adding or removing things. \n",
    "#         Tuples, on the other hand are like fixed collections. Once you create a tuple, it can not be changed, \n",
    "#         which makes it safer in some situations where you don not want the data to accidentally change."
   ]
  },
  {
   "cell_type": "code",
   "execution_count": 18,
   "id": "78ee55d3-9ac9-461e-a521-bf1c05daebe8",
   "metadata": {},
   "outputs": [],
   "source": [
    "# 7. What is the difference between “==” and “is” operators in Python?\n",
    "# Ans 7). \"==\" This operator checks if two things are the same in value. \n",
    "#         For example, if you have two different objects, but both have the number \"5\", \"==\" will say they are equal. \n",
    "#         \"is\" checks if two things are actually the same object in memory. \n",
    "#         It is like checking if two pictures are taken from the same camera or two different ones."
   ]
  },
  {
   "cell_type": "code",
   "execution_count": 19,
   "id": "d1577e8e-1d1f-4dee-8442-92ee3894de73",
   "metadata": {},
   "outputs": [],
   "source": [
    "# 8. What are logical operators in Python?\n",
    "# Ans 8). Logical operators help you combine conditions in your code:\n",
    "#         \"and\"`: Everything on both sides must be true(1).\n",
    "#         \"or\": Only one side needs to be true(1).\n",
    "#         \"not\": Reverses the truth if something is true, it makes it false, and vice versa."
   ]
  },
  {
   "cell_type": "code",
   "execution_count": 20,
   "id": "6b37794e-dc52-46ad-9908-9cc1d2179a5e",
   "metadata": {},
   "outputs": [],
   "source": [
    "# 9. What is type casting in Python?\n",
    "# Ans 9). Type casting is when you change something from one data type to another. \n",
    "#         For example, changing a number into a string so you can print it with text.\n",
    "#         Python has built-in tools to do this, like \"str()\" to make something a string or \"int()\" to turn it into a number."
   ]
  },
  {
   "cell_type": "code",
   "execution_count": 21,
   "id": "aa8b7d1a-157b-4cca-98ee-1d8f2ecd3743",
   "metadata": {},
   "outputs": [],
   "source": [
    "# 10. What is the difference between implicit and explicit type casting?\n",
    "# Ans 10). Implicit casting : It happens automatically when Python changes types for you, \n",
    "#           like when you add a whole number (int) and a decimal number (float), and Python turns everything into a float.\n",
    "#          Explicit casting : Is when you tell Python to change a type using functions \n",
    "#           like \"int()\" or \"float()\", such as changing a string \"10\"` into the number 10."
   ]
  },
  {
   "cell_type": "code",
   "execution_count": 22,
   "id": "d4e8d30d-ef51-4409-80b5-839ff11011a2",
   "metadata": {},
   "outputs": [],
   "source": [
    "# 11. What is the purpose of conditional statements in Python?\n",
    "# Ans 11). Conditional statements let you put conditions in your code. \n",
    "#          For example, you can tell the program to do something only if a certain condition is true. \n",
    "#          It is like, \"If it is raining, take an umbrella.\""
   ]
  },
  {
   "cell_type": "code",
   "execution_count": 23,
   "id": "a633d27f-9fbf-4959-b7cf-7fcd17125022",
   "metadata": {},
   "outputs": [],
   "source": [
    "# 12. How does the elif statement work?\n",
    "# Ans 12). \"elif\" means \"else if\" in other programming languages. \n",
    "#          It is used when you have more than one condition to check. \n",
    "#          If the first condition is not true, Python checks the \"elif\" condition, and if that is true, it runs that part of the code."
   ]
  },
  {
   "cell_type": "code",
   "execution_count": 98,
   "id": "251136ad-8cc8-4c3a-90d9-57cafb7eaeb5",
   "metadata": {},
   "outputs": [],
   "source": [
    "# 13. What is the difference between for and while loops?\n",
    "# Ans13). A \"for loop\" is like saying repeat this action a certain number of times.\n",
    "#          for example : Iterate through a list or count from 1 to 10.\n",
    "#         A \"while loop\" keeps repeating until a certain condition is met.\n",
    "#          so you might not know how many times it will run. \n",
    "#          It’s like, \"keep going as long as it’s not raining.\""
   ]
  },
  {
   "cell_type": "code",
   "execution_count": 99,
   "id": "052b84d1-4eec-4acd-b2bb-eec52d3a63cc",
   "metadata": {},
   "outputs": [],
   "source": [
    "# 14. Describe a scenario where a while loop is more suitable than a for loop.\n",
    "# Ans 14). If you don’t know exactly how many times you need to repeat an action.\n",
    "#          like asking someone to enter their name until they give you a valid answer, a while loop works best. \n",
    "#          It will keep asking until you get the right input."
   ]
  },
  {
   "cell_type": "code",
   "execution_count": null,
   "id": "88f60571-c91e-443a-a345-a45998cc3cb2",
   "metadata": {},
   "outputs": [],
   "source": []
  },
  {
   "cell_type": "markdown",
   "id": "a80de3d7-fc3f-4e45-a8f2-8f90e0e61c13",
   "metadata": {},
   "source": [
    "# Practical Questions"
   ]
  },
  {
   "cell_type": "code",
   "execution_count": 27,
   "id": "7b9eeca8-81e9-4b00-a76e-8188d18df7d1",
   "metadata": {},
   "outputs": [
    {
     "name": "stdout",
     "output_type": "stream",
     "text": [
      "Hello, World!\n"
     ]
    }
   ],
   "source": [
    "# 1. Write a Python program to print \"Hello, World!\"\n",
    "\n",
    "print(\"Hello, World!\")"
   ]
  },
  {
   "cell_type": "code",
   "execution_count": 33,
   "id": "8c1dde2a-0fc6-4796-8696-b8116e3cec7e",
   "metadata": {},
   "outputs": [
    {
     "name": "stdin",
     "output_type": "stream",
     "text": [
      "Enter Your Name : Yashasvi\n",
      "Enter Your Age : 25\n"
     ]
    },
    {
     "name": "stdout",
     "output_type": "stream",
     "text": [
      "Name : Yashasvi\n",
      "Age : 25\n"
     ]
    }
   ],
   "source": [
    "# 2. Write a Python program that displays your name and age\n",
    "\n",
    "name = input(\"Enter Your Name :\")\n",
    "age = int(input(\"Enter Your Age :\"))\n",
    "\n",
    "print(\"Name :\",name)\n",
    "print(\"Age :\", age)"
   ]
  },
  {
   "cell_type": "code",
   "execution_count": 2,
   "id": "da3d2d85-0b81-45a2-8aea-23c8f60eb3f6",
   "metadata": {},
   "outputs": [
    {
     "name": "stdout",
     "output_type": "stream",
     "text": [
      "False None True and as assert async await break class continue def del elif else except finally for from global if import in is lambda nonlocal not or pass raise return try while with yield "
     ]
    }
   ],
   "source": [
    "# 3. Write code to print all the pre-defined keywords in Python using the keyword library.\n",
    "import keyword\n",
    "\n",
    "for i in keyword.kwlist:\n",
    "    print(i, end=\" \")"
   ]
  },
  {
   "cell_type": "code",
   "execution_count": 57,
   "id": "15069a12-46d5-4f65-8971-f157c068f0fb",
   "metadata": {},
   "outputs": [
    {
     "name": "stdin",
     "output_type": "stream",
     "text": [
      "Enter keyword for\n"
     ]
    },
    {
     "name": "stdout",
     "output_type": "stream",
     "text": [
      "for is a python keyword\n"
     ]
    }
   ],
   "source": [
    "# 4. Write a program that checks if a given word is a Python keyword\n",
    "\n",
    "word = input(\"Enter keyword\")\n",
    "\n",
    "for i in keyword.kwlist:\n",
    "    if word == i :\n",
    "        print(f\"{word} is a python keyword\")\n",
    "        break\n",
    "    else:\n",
    "        continue\n",
    "else:\n",
    "    print(f\"{word} is not a python keyword\")"
   ]
  },
  {
   "cell_type": "code",
   "execution_count": 106,
   "id": "7428b514-7535-4038-8108-6a01a18b87cd",
   "metadata": {},
   "outputs": [
    {
     "name": "stdout",
     "output_type": "stream",
     "text": [
      "list : [1, 2, 3, 'Ajay']\n",
      "Modified List : [1, 2, 3, 8]\n",
      "Tuple : (1, 2, 3, 4)\n"
     ]
    },
    {
     "ename": "TypeError",
     "evalue": "'tuple' object does not support item assignment",
     "output_type": "error",
     "traceback": [
      "\u001b[1;31m---------------------------------------------------------------------------\u001b[0m",
      "\u001b[1;31mTypeError\u001b[0m                                 Traceback (most recent call last)",
      "Cell \u001b[1;32mIn[106], line 12\u001b[0m\n\u001b[0;32m      9\u001b[0m \u001b[38;5;28mtuple\u001b[39m \u001b[38;5;241m=\u001b[39m (\u001b[38;5;241m1\u001b[39m,\u001b[38;5;241m2\u001b[39m,\u001b[38;5;241m3\u001b[39m,\u001b[38;5;241m4\u001b[39m)\n\u001b[0;32m     10\u001b[0m \u001b[38;5;28mprint\u001b[39m(\u001b[38;5;124m\"\u001b[39m\u001b[38;5;124mTuple :\u001b[39m\u001b[38;5;124m\"\u001b[39m,\u001b[38;5;28mtuple\u001b[39m)\n\u001b[1;32m---> 12\u001b[0m \u001b[38;5;28;43mtuple\u001b[39;49m\u001b[43m[\u001b[49m\u001b[38;5;241;43m1\u001b[39;49m\u001b[43m]\u001b[49m\u001b[38;5;241m=\u001b[39m \u001b[38;5;241m12\u001b[39m\n",
      "\u001b[1;31mTypeError\u001b[0m: 'tuple' object does not support item assignment"
     ]
    }
   ],
   "source": [
    "# 5. Create a list and tuple in Python, and demonstrate how attempting to change an element works differently for each\n",
    "\n",
    "list = [1,2,3,\"Ajay\"]\n",
    "print(\"list :\",list)\n",
    "\n",
    "list[-1] = 8\n",
    "print(\"Modified List :\", list)\n",
    "\n",
    "tuple = (1,2,3,4)\n",
    "print(\"Tuple :\",tuple)\n",
    "\n",
    "tuple[1]= 12"
   ]
  },
  {
   "cell_type": "code",
   "execution_count": 25,
   "id": "a16918dd-7db7-467d-98c4-3461f880436f",
   "metadata": {},
   "outputs": [
    {
     "name": "stdout",
     "output_type": "stream",
     "text": [
      "Immutable : Good\n",
      "Mutable : [1, 2, 3, 4, 5, 6, 7, 8, 9, 10, 11]\n"
     ]
    }
   ],
   "source": [
    "# 6. Write a function to demonstrate the behavior of mutable and immutable arguments\n",
    "\n",
    "def operation(a,b): #creating the function\n",
    "  a = a + \"Night\"\n",
    "  b.append(11)\n",
    "  \n",
    "\n",
    "x = \"Good\"\n",
    "y = [1,2,3,4,5,6,7,8,9,10]\n",
    "\n",
    "operation(x,y)\n",
    "\n",
    "\n",
    "print(\"Immutable :\",x)\n",
    "print(\"Mutable :\",y)"
   ]
  },
  {
   "cell_type": "code",
   "execution_count": 27,
   "id": "fae1ce55-bdff-41d7-900e-528e738aa845",
   "metadata": {},
   "outputs": [
    {
     "name": "stdout",
     "output_type": "stream",
     "text": [
      "Immutable : Good\n",
      "Mutable : [1, 2, 3, 4, 5, 6, 7, 8, 9, 10, 11]\n"
     ]
    }
   ],
   "source": [
    "# 7. Write a function to demonstrate the behavior of mutable and immutable arguments\n",
    "\n",
    "def operation(a,b): #creating the function\n",
    "  a = a + \"Night\"\n",
    "  b.append(11)\n",
    "  \n",
    "\n",
    "x = \"Good\"\n",
    "y = [1,2,3,4,5,6,7,8,9,10]\n",
    "\n",
    "operation(x,y)\n",
    "\n",
    "\n",
    "print(\"Immutable :\",x)\n",
    "print(\"Mutable :\",y)"
   ]
  },
  {
   "cell_type": "code",
   "execution_count": 26,
   "id": "0eb5c98f-ca0c-4a11-be93-1be089273c16",
   "metadata": {},
   "outputs": [
    {
     "name": "stdout",
     "output_type": "stream",
     "text": [
      "True (and) False : False\n",
      "True (or) False : True\n",
      "(not) True : False\n",
      "(not) False : True\n"
     ]
    }
   ],
   "source": [
    "# 8. Write a program to demonstrate the use of logical operators\n",
    "\n",
    "a = True\n",
    "b = False\n",
    "print(f\"{a} (and) {b} : {a and b}\")\n",
    "\n",
    "print(f\"{a} (or) {b} : {a or b}\")\n",
    "\n",
    "print(f\"(not) {a} : {not a}\")\n",
    "print(f\"(not) {b} : {not b}\")"
   ]
  },
  {
   "cell_type": "code",
   "execution_count": 77,
   "id": "7fc151da-faea-4b05-85db-6583d035e192",
   "metadata": {},
   "outputs": [
    {
     "name": "stdin",
     "output_type": "stream",
     "text": [
      "Enter value : 67\n"
     ]
    },
    {
     "name": "stdout",
     "output_type": "stream",
     "text": [
      "Convert to integer : 67\n",
      "Convert to float : 67.0\n",
      "Convert to boolean : True\n"
     ]
    }
   ],
   "source": [
    "# 9. Write a Python program to convert user input from string to integer, float, and boolean types\n",
    "\n",
    "a = input(\"Enter value :\")\n",
    "\n",
    "if a.isdigit() or (a[0]==\"-\" and a[1:].isdigit()):\n",
    "    print(\"Convert to integer :\",int(a))\n",
    "    print(\"Convert to float :\",float(a))\n",
    "else:\n",
    "    print(\"Conversion not possible to integer and float :\",a)\n",
    "print(\"Convert to boolean :\",bool(a))"
   ]
  },
  {
   "cell_type": "code",
   "execution_count": 32,
   "id": "6c0ba56e-1ee2-4784-90a7-2964577561c8",
   "metadata": {},
   "outputs": [
    {
     "name": "stdout",
     "output_type": "stream",
     "text": [
      "converted : [1, 2, 3]\n"
     ]
    }
   ],
   "source": [
    "# 10. Write code to demonstrate type casting with list elements\n",
    "\n",
    "\n",
    "t = [\"1\",\"2\",\"3\"]\n",
    "\n",
    "for i in range(len(t)):\n",
    "\n",
    "    t[i] = int(t[i])\n",
    "    \n",
    "print(\"converted :\",t)\n",
    "\n",
    "    \n",
    "\n"
   ]
  },
  {
   "cell_type": "code",
   "execution_count": 101,
   "id": "3379d9c8-c910-497e-9fc1-eb0c00b5898a",
   "metadata": {},
   "outputs": [
    {
     "name": "stdin",
     "output_type": "stream",
     "text": [
      "Enter a number:  55\n"
     ]
    },
    {
     "name": "stdout",
     "output_type": "stream",
     "text": [
      "The number is positive.\n"
     ]
    }
   ],
   "source": [
    "# 11. Write a program that checks if a number is positive, negative, or zero\n",
    "\n",
    "num = float(input(\"Enter a number: \"))\n",
    "\n",
    "if num > 0:\n",
    "    print(\"The number is positive.\")\n",
    "elif num < 0:\n",
    "    print(\"The number is negative.\")\n",
    "else:\n",
    "    print(\"The number is zero.\")"
   ]
  },
  {
   "cell_type": "code",
   "execution_count": 100,
   "id": "9bb57308-f490-4d57-9f2e-1f194d3232df",
   "metadata": {},
   "outputs": [
    {
     "name": "stdout",
     "output_type": "stream",
     "text": [
      "1\n",
      "2\n",
      "3\n",
      "4\n",
      "5\n",
      "6\n",
      "7\n",
      "8\n",
      "9\n",
      "10\n"
     ]
    }
   ],
   "source": [
    "# 12. Write a for loop to print numbers from 1 to 10\n",
    "\n",
    "start = 1\n",
    "end = 10\n",
    "\n",
    "for i in range(start,end+1):\n",
    "    print(i)\n"
   ]
  },
  {
   "cell_type": "code",
   "execution_count": 103,
   "id": "1f0526a3-50c0-45fb-bdd1-246b6e808ad1",
   "metadata": {},
   "outputs": [
    {
     "name": "stdout",
     "output_type": "stream",
     "text": [
      "650\n"
     ]
    }
   ],
   "source": [
    "# 13. Write a Python program to find the sum of all even numbers between 1 and 50\n",
    "\n",
    "sum = 0\n",
    "\n",
    "for i in range(1,51):\n",
    "    if i % 2 == 0:\n",
    "        sum += i\n",
    "    else:\n",
    "        continue\n",
    "\n",
    "print(sum)"
   ]
  },
  {
   "cell_type": "code",
   "execution_count": 19,
   "id": "ba395920-b420-49b0-9900-a3cba1bf1d8e",
   "metadata": {},
   "outputs": [
    {
     "name": "stdin",
     "output_type": "stream",
     "text": [
      "Write a string :  numpy\n"
     ]
    },
    {
     "name": "stdout",
     "output_type": "stream",
     "text": [
      "ypmun\n"
     ]
    }
   ],
   "source": [
    "# 14. Write a program to reverse a string using a while loop\n",
    "\n",
    "l = input(\"Write a string : \")\n",
    "\n",
    "num = len(l)\n",
    "\n",
    "t = \"\"\n",
    "\n",
    "i = -1\n",
    "\n",
    "while num > 0:\n",
    "\n",
    "    t = t + l[i]\n",
    "\n",
    "    num -= 1\n",
    "    i -= 1\n",
    "    \n",
    "print(t)\n",
    "    \n",
    "\n"
   ]
  },
  {
   "cell_type": "code",
   "execution_count": 18,
   "id": "a5a31f7b-0c91-4168-a160-2319bc6a8fb5",
   "metadata": {},
   "outputs": [
    {
     "name": "stdin",
     "output_type": "stream",
     "text": [
      "Write a string :  nope\n"
     ]
    },
    {
     "name": "stdout",
     "output_type": "stream",
     "text": [
      "epon\n"
     ]
    }
   ],
   "source": [
    "l = input(\"Write a string : \")\n",
    "\n",
    "num = len(l)-1\n",
    "\n",
    "t = \"\"\n",
    "\n",
    "while num >= 0:\n",
    "\n",
    "    t = t + l[num]\n",
    "\n",
    "    num -= 1\n",
    "    \n",
    "print(t)"
   ]
  },
  {
   "cell_type": "code",
   "execution_count": 36,
   "id": "2052fc76-5c54-4464-a5f5-74549b28a1ff",
   "metadata": {},
   "outputs": [
    {
     "name": "stdin",
     "output_type": "stream",
     "text": [
      "Enter Value 3\n"
     ]
    },
    {
     "name": "stdout",
     "output_type": "stream",
     "text": [
      "6\n"
     ]
    }
   ],
   "source": [
    "# 15. Write a Python program to calculate the factorial of a number provided by the user using a while loop.\n",
    "\n",
    "n = int(input(\"Enter Value\"))\n",
    "i = n-1\n",
    "\n",
    "while i > 0 and n > 0:\n",
    "    n *= i\n",
    "    i -= 1\n",
    "else:\n",
    "    print(n)\n",
    "    "
   ]
  },
  {
   "cell_type": "code",
   "execution_count": null,
   "id": "8f6f106e-5335-4609-969d-e5558e1e4926",
   "metadata": {},
   "outputs": [],
   "source": []
  }
 ],
 "metadata": {
  "kernelspec": {
   "display_name": "Python 3 (ipykernel)",
   "language": "python",
   "name": "python3"
  },
  "language_info": {
   "codemirror_mode": {
    "name": "ipython",
    "version": 3
   },
   "file_extension": ".py",
   "mimetype": "text/x-python",
   "name": "python",
   "nbconvert_exporter": "python",
   "pygments_lexer": "ipython3",
   "version": "3.13.1"
  }
 },
 "nbformat": 4,
 "nbformat_minor": 5
}
